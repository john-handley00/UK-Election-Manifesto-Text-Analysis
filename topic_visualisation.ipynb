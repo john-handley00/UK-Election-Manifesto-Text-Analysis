{
 "cells": [
  {
   "cell_type": "code",
   "execution_count": 11,
   "metadata": {},
   "outputs": [
    {
     "data": {
      "text/html": [
       "<div>\n",
       "<style scoped>\n",
       "    .dataframe tbody tr th:only-of-type {\n",
       "        vertical-align: middle;\n",
       "    }\n",
       "\n",
       "    .dataframe tbody tr th {\n",
       "        vertical-align: top;\n",
       "    }\n",
       "\n",
       "    .dataframe thead th {\n",
       "        text-align: right;\n",
       "    }\n",
       "</style>\n",
       "<table border=\"1\" class=\"dataframe\">\n",
       "  <thead>\n",
       "    <tr style=\"text-align: right;\">\n",
       "      <th></th>\n",
       "      <th>id</th>\n",
       "      <th>text</th>\n",
       "      <th>party</th>\n",
       "      <th>election</th>\n",
       "    </tr>\n",
       "  </thead>\n",
       "  <tbody>\n",
       "    <tr>\n",
       "      <th>0</th>\n",
       "      <td>51320_196410</td>\n",
       "      <td>the new britain  the world wants it and would ...</td>\n",
       "      <td>Labour Party</td>\n",
       "      <td>196410</td>\n",
       "    </tr>\n",
       "    <tr>\n",
       "      <th>1</th>\n",
       "      <td>51420_196410</td>\n",
       "      <td>think for yourself  the liberal party offers t...</td>\n",
       "      <td>Liberal Party</td>\n",
       "      <td>196410</td>\n",
       "    </tr>\n",
       "    <tr>\n",
       "      <th>2</th>\n",
       "      <td>51620_196410</td>\n",
       "      <td>prosperity with a purpose  foreward  by sir al...</td>\n",
       "      <td>Conservative Party</td>\n",
       "      <td>196410</td>\n",
       "    </tr>\n",
       "    <tr>\n",
       "      <th>3</th>\n",
       "      <td>51320_196603</td>\n",
       "      <td>time for decision  preface: time for decision ...</td>\n",
       "      <td>Labour Party</td>\n",
       "      <td>196603</td>\n",
       "    </tr>\n",
       "    <tr>\n",
       "      <th>4</th>\n",
       "      <td>51420_196603</td>\n",
       "      <td>for all the people: the liberal plan of 1966  ...</td>\n",
       "      <td>Liberal Party</td>\n",
       "      <td>196603</td>\n",
       "    </tr>\n",
       "  </tbody>\n",
       "</table>\n",
       "</div>"
      ],
      "text/plain": [
       "             id                                               text  \\\n",
       "0  51320_196410  the new britain  the world wants it and would ...   \n",
       "1  51420_196410  think for yourself  the liberal party offers t...   \n",
       "2  51620_196410  prosperity with a purpose  foreward  by sir al...   \n",
       "3  51320_196603  time for decision  preface: time for decision ...   \n",
       "4  51420_196603  for all the people: the liberal plan of 1966  ...   \n",
       "\n",
       "                party  election  \n",
       "0        Labour Party    196410  \n",
       "1       Liberal Party    196410  \n",
       "2  Conservative Party    196410  \n",
       "3        Labour Party    196603  \n",
       "4       Liberal Party    196603  "
      ]
     },
     "execution_count": 11,
     "metadata": {},
     "output_type": "execute_result"
    }
   ],
   "source": [
    "%matplotlib inline\n",
    "import matplotlib.pyplot as plt\n",
    "import pandas as pd\n",
    "import numpy as np\n",
    "from top2vec import Top2Vec\n",
    "\n",
    "manifestos = pd.read_csv('data/manifestos_cleaned.csv',index_col=0)\n",
    "model = Top2Vec.load('data/manifesto_topic_model')\n",
    "\n",
    "manifestos.head()"
   ]
  },
  {
   "cell_type": "code",
   "execution_count": 12,
   "metadata": {},
   "outputs": [
    {
     "data": {
      "text/plain": [
       "(47, 300)"
      ]
     },
     "execution_count": 12,
     "metadata": {},
     "output_type": "execute_result"
    }
   ],
   "source": [
    "from umap import UMAP\n",
    "\n",
    "model.document_vectors\n",
    "\n"
   ]
  }
 ],
 "metadata": {
  "kernelspec": {
   "display_name": "base",
   "language": "python",
   "name": "python3"
  },
  "language_info": {
   "codemirror_mode": {
    "name": "ipython",
    "version": 3
   },
   "file_extension": ".py",
   "mimetype": "text/x-python",
   "name": "python",
   "nbconvert_exporter": "python",
   "pygments_lexer": "ipython3",
   "version": "3.8.16"
  },
  "orig_nbformat": 4,
  "vscode": {
   "interpreter": {
    "hash": "0a33fb28f557110349c15a8db9d4f7081fcf89b5f905b3db121f74b1521bfea8"
   }
  }
 },
 "nbformat": 4,
 "nbformat_minor": 2
}
